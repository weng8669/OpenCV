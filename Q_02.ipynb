{
 "cells": [
  {
   "cell_type": "markdown",
   "metadata": {},
   "source": [
    
    "> * 將 lenaColor.png 彩色讀入\n",
    "> * 將 b, g, r 分拆成三個 numpy 2 維的 array\n",
    "\n",
    "> * 將 b array 中的 [100:400, 150:415] 區塊變成白色\n",
    "> * 將 g array 中的 [100:400, 150:415] 區塊變成白色*1/2\n",
    "> * 將 r array 中的 [100:400, 150:415] 區塊變成黑色\n",
    "\n",
    "> * 再將這三個 array 依 b, g, r 的順序黏回去組成一 3 維的 array 並顯示出來\n",
    "> * 再將這三個 array 依 g, r, b 的順序黏回去組成一 3 維的 array 並顯示出來\n",
    "> * 再將這三個 array 依 b, b, b 的順序黏回去組成一 3 維的 array 並顯示出來"
   ]
  },
  {
   "cell_type": "code",
   "execution_count": null,
   "metadata": {},
   "outputs": [],
   "source": [
    "import cv2\n",
    "\n",
    "# ------- your code ----------------------\n",
    "from matplotlib import pyplot as plt\n",
    "\n",
    "img = cv2.imread('../image/lenaColor.png', cv2.IMREAD_COLOR)               # 1 BGR,  1 可省略(原圖)\n",
    "\n",
    "cv2.imshow('lenaColor.png Color uint8', img)             # unit8\n",
    "\n",
    "\n",
    "\n",
    "b, g, r = cv2.split(img)     #分割通道\n",
    "# b = img[:,:,0];  g = img[:,:,1];  r = img[:,:,2]  #也可以陣列指定通道分割\n",
    "\n",
    "b[100:400, 150:415]=255\n",
    "g[100:400, 150:415]=127\n",
    "r[100:400, 150:415]=0\n",
    "\n",
    "\n",
    "cv2.imshow('rgb', cv2.merge([r,g,b]))\n",
    "cv2.imshow('bgr', cv2.merge([g,r,b]))\n",
    "cv2.imshow('bbb', cv2.merge([b,b,b]))\n",
    "\n",
    "\n",
    "\n",
    "\n",
    "# cv2.rectangle(rectangle, (25, 25), (275, 275), 255, -1)   # Draw filled rectangle\n",
    "# cv2.imshow('Rectangle', rectangle)\n",
    "# cv2.waitKey(0)\n",
    "\n",
    "\n",
    "\n",
    "\n",
    "cv2.waitKey(0)\n",
    "cv2.destroyAllWindows()"
   ]
  },
  {
   "cell_type": "markdown",
   "metadata": {},
   "source": [
    "---\n",
    
    "在一個 $512*512*3$ 的黑色畫布上, 利用畫圓的函數 cv2.circle, for loop 和 亂數\n",
    ">* 以畫布中心為圓心, 畫出 12 等距同心圓\n",
    ">* 12 同心圓RGB顏色隨機變換, 每次不一樣<br>\n",
    "><img src=\"..\\image\\circle2-1.jpg\"  style='width:40%'>"
   ]
  },
  {
   "cell_type": "code",
   "execution_count": 1,
   "metadata": {},
   "outputs": [
    {
     "data": {
      "text/plain": [
       "-1"
      ]
     },
     "execution_count": 1,
     "metadata": {},
     "output_type": "execute_result"
    }
   ],
   "source": [
    "import numpy as np\n",
    "import cv2\n",
    "import random\n",
    "# ---- your code -----------------\n",
    "gc = np.zeros((512, 512, 3), dtype='uint8')\n",
    "\n",
    "count = 12\n",
    "for i in range(1,count+1):\n",
    "    b=random.randint(0,256)\n",
    "    g=random.randint(0,256)\n",
    "    r=random.randint(0,256)\n",
    "    cv2.circle(gc, (256, 256), i*20, (b, g, r), 5)\n",
    "    \n",
    "\n",
    "cv2.imshow('draw', gc) \n",
    "\n",
    "\n",
    "cv2.waitKey(0)\n",
    "cv2.destroyAllWindows()"
   ]
  },
  {
   "cell_type": "markdown",
   "metadata": {},
   "source": [
    "---\n",
    
    "在一個 $512*512*3$ 的黑色畫布上, 利用畫橢圓的函數 cv2.ellipse 和 for loop\n",
    ">* 以畫布中心為圓心, 畫出 12 同心等分 360 度橢圓, 顏色一樣<br>\n",
    "><img src=\"..\\image\\ellipse2-2.jpg\"  style='width:40%'>"
   ]
  },
  {
   "cell_type": "code",
   "execution_count": 5,
   "metadata": {},
   "outputs": [
    {
     "data": {
      "text/plain": [
       "-1"
      ]
     },
     "execution_count": 5,
     "metadata": {},
     "output_type": "execute_result"
    }
   ],
   "source": [
    "import numpy as np\n",
    "import cv2\n",
    "# ---- your code ---------------\n",
    "gc = np.zeros((512, 512, 3), dtype='uint8')\n",
    "\n",
    "count = 12\n",
    "for i in range(1,count+1):\n",
    "    \n",
    "    cv2.ellipse(gc, (256, 256), (100, 20), i*30, 0, 360, (80, 127, 255), 5)\n",
    "\n",
    "cv2.imshow('draw', gc) \n",
    "\n",
    "\n",
    "\n",
    "\n",
    "cv2.waitKey(0)\n",
    "cv2.destroyAllWindows()\n",
    "cv2.waitKey(1)"
   ]
  },
  {
   "cell_type": "markdown",
   "metadata": {},
   "source": [
    "---\n",
    
    "在一個 $400*600*3$ 的黑色畫布上, 利用畫圓的函數隨機產生 40 個 (圓心隨機, 填滿顏色隨機, 半徑隨機)\n",
    "><img src=\"..\\image\\circle2-2.jpg\"  style='width:50%'>"
   ]
  },
  {
   "cell_type": "code",
   "execution_count": 15,
   "metadata": {},
   "outputs": [],
   "source": [
    "import cv2\n",
    "import numpy as np\n",
    "import random\n",
    "# ---- your code -----------\n",
    "gc = np.zeros((400, 600, 3), dtype='uint8')\n",
    "count = 40\n",
    "for i in range(1,count+1):\n",
    "    b=random.randint(0,256)\n",
    "    g=random.randint(0,256)\n",
    "    r=random.randint(0,256)\n",
    "    l = random.randint(1,3)\n",
    "    x = random.randint(0,600)\n",
    "    y = random.randint(0,400)\n",
    "    cv2.circle(gc, (x, y), i*l, (b, g, r), -3)\n",
    "cv2.imshow('draw', gc) \n",
    "\n",
    "\n",
    "\n",
    "\n",
    "\n",
    "\n",
    "\n",
    "cv2.waitKey(0)                                      \n",
    "cv2.destroyAllWindows()                 # 刪除所有視窗"
   ]
  },
  {
   "cell_type": "markdown",
   "metadata": {},
   "source": []
  }
 ],
 "metadata": {
  "kernelspec": {
   "display_name": "Python 3 (ipykernel)",
   "language": "python",
   "name": "python3"
  },
  "language_info": {
   "codemirror_mode": {
    "name": "ipython",
    "version": 3
   },
   "file_extension": ".py",
   "mimetype": "text/x-python",
   "name": "python",
   "nbconvert_exporter": "python",
   "pygments_lexer": "ipython3",
   "version": "3.9.13"
  }
 },
 "nbformat": 4,
 "nbformat_minor": 4
}
