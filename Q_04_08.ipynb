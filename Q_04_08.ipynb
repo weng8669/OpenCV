{
 "cells": [
  {
   "cell_type": "markdown",
   "metadata": {},
   "source": [
    "## 練習 04_08\n",
    "> * 將 下列圖片 彩色載入\n",
    "> * 垂直 rotate 90 度, show 出結果\n",
    "> * 再 3x3 高斯濾波器, sigmaX=0.8, sigmaY=0.8, show 出結果<br>\n",
    "> * 再 sobelX, sobelY 後用(0.5, 0.5)的 權重加起來, show 出結果<br>\n",
    "> * 再輪廓偵測外框 (contours) 將找到的輪廓填滿畫在原圖上, show 出結果\n",
    "> * 將上圖中的圓心用圓圈標示出來, 並將面積標示於圓心旁邊\n",
    "\n",
    "### 必須將上列個各處理後的圖 imshow 出來"
   ]
  },
  {
   "cell_type": "code",
   "execution_count": 2,
   "metadata": {},
   "outputs": [
    {
     "name": "stdout",
     "output_type": "stream",
     "text": [
      "輪廓 0 的中心點 (244, 526),\t面積 :  45,035.00,\t週長 :   793.49\n",
      "輪廓 1 的中心點 (384, 353),\t面積 :  11,693.50,\t週長 :   677.71\n",
      "輪廓 2 的中心點 (104, 254),\t面積 :  36,794.00,\t週長 :   797.13\n",
      "輪廓 3 的中心點 (349, 144),\t面積 :  25,284.00,\t週長 :   650.00\n"
     ]
    },
    {
     "data": {
      "text/plain": [
       "-1"
      ]
     },
     "execution_count": 2,
     "metadata": {},
     "output_type": "execute_result"
    }
   ],
   "source": [
    "import cv2\n",
    "import numpy as np\n",
    "\n",
    "img = cv2.imread('../image/contour.png')\n",
    "\n",
    "# -------- 垂直 rotate 90 度 ------------------------\n",
    "rows, cols, _ = img.shape\n",
    "\n",
    "# cols-1 and rows-1 are the coordinate limits\n",
    "M = cv2.getRotationMatrix2D(((cols-1)/2.0, (rows-1)/2.0), 90, 1)  # certer 是中心\n",
    "dst = cv2.warpAffine(img, M, (cols, rows))\n",
    "\n",
    "img90 = cv2.rotate(img, cv2.ROTATE_90_CLOCKWISE)\n",
    "\n",
    "cv2.imshow('Rotate 90', img90)\n",
    "\n",
    "\n",
    "# ----- 3*3 高斯濾波器 -----------------------------\n",
    "sigma08 = cv2.GaussianBlur(img90, (3,3), 0.8, 0.8)   #標準差取 0 時 OpenCV 會根據高斯矩陣的尺寸自己計算\n",
    "\n",
    "cv2.imshow('sigma0.8', sigma08)\n",
    "\n",
    "\n",
    "# ------- 將前一處理後圖片取 SobelX, SobelY and addWeight(0.5, 0.5)----------\n",
    "sobelx = cv2.Sobel(sigma08, cv2.CV_64F, 1, 0)\n",
    "sobely = cv2.Sobel(sigma08, cv2.CV_64F, 0, 1)\n",
    "# print(sobelx[0])\n",
    "\n",
    "sobelx = cv2.convertScaleAbs(sobelx)          # 轉回 uint8\n",
    "sobely = cv2.convertScaleAbs(sobely)  \n",
    "sobelxy = cv2.addWeighted(sobelx, 0.5, sobely, 0.5, 0)  \n",
    "\n",
    "cv2.imshow('x_add_y', sobelxy)\n",
    "\n",
    "\n",
    "# ------- 輪廓偵測 (contours) 將找到的輪廓畫在原圖上 ----------\n",
    "imgray = cv2.cvtColor(sobelxy, cv2.COLOR_BGR2GRAY)\n",
    "\n",
    "cnts, hierarchy = cv2.findContours(imgray, cv2.RETR_EXTERNAL, cv2.CHAIN_APPROX_SIMPLE)\n",
    "\n",
    "mask = cv2.drawContours(sobelxy, cnts, -1, (0, 0, 255), -1)  # image, contour, contouridx, (color), thickness\n",
    "cv2.imshow('Contour', mask)\n",
    "\n",
    "\n",
    "\n",
    "\n",
    "# ------- 將上圖中的物件中心用圓圈標示出來, 並將面積標示於圓心旁邊 ---------\n",
    "\n",
    "for i in range(len(cnts)):\n",
    "    M = cv2.moments(cnts[i])\n",
    "    cx = int(M['m10'] / M['m00'])  # 中心點 x 座標\n",
    "    cy = int(M['m01'] / M['m00'])  # 中心點 y 座標\n",
    "    \n",
    "    area = cv2.contourArea(cnts[i])                                        # 面積\n",
    "    round_len = cv2.arcLength(cnts[i], True)                     # 週長\n",
    "    cv2.circle(mask, (cx,cy),3 ,(0,255,0),-2)\n",
    "    cv2.putText(mask, f'area = {area}',(cx+10,cy), cv2.FONT_HERSHEY_SIMPLEX, .6,(0,255,0),2,cv2.LINE_AA)\n",
    "    print(f'輪廓 {i} 的中心點 ({cx}, {cy}),\\t面積 : {area:10,.2f},\\t週長 :{round_len:9,.2f}')\n",
    "\n",
    "cv2.imshow('mask',mask)\n",
    "\n",
    "\n",
    "\n",
    "\n",
    "\n",
    "cv2.waitKey(0)\n",
    "cv2.destroyAllWindows()\n",
    "cv2.waitKey(1)"
   ]
  },
  {
   "cell_type": "code",
   "execution_count": null,
   "metadata": {},
   "outputs": [],
   "source": []
  },
  {
   "cell_type": "code",
   "execution_count": null,
   "metadata": {},
   "outputs": [],
   "source": []
  }
 ],
 "metadata": {
  "kernelspec": {
   "display_name": "Python 3 (ipykernel)",
   "language": "python",
   "name": "python3"
  },
  "language_info": {
   "codemirror_mode": {
    "name": "ipython",
    "version": 3
   },
   "file_extension": ".py",
   "mimetype": "text/x-python",
   "name": "python",
   "nbconvert_exporter": "python",
   "pygments_lexer": "ipython3",
   "version": "3.9.13"
  }
 },
 "nbformat": 4,
 "nbformat_minor": 4
}
